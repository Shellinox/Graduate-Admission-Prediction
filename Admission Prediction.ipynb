{
 "cells": [
  {
   "cell_type": "code",
   "execution_count": 5,
   "id": "2aff10bc",
   "metadata": {},
   "outputs": [],
   "source": [
    "import pandas as pd\n",
    "import numpy as np"
   ]
  },
  {
   "cell_type": "code",
   "execution_count": 6,
   "id": "fac60b59",
   "metadata": {},
   "outputs": [],
   "source": [
    "df=pd.read_csv(\"Admission_Predict_Ver1.1.csv\")"
   ]
  },
  {
   "cell_type": "code",
   "execution_count": 8,
   "id": "3e1f5379",
   "metadata": {},
   "outputs": [
    {
     "data": {
      "text/html": [
       "<div>\n",
       "<style scoped>\n",
       "    .dataframe tbody tr th:only-of-type {\n",
       "        vertical-align: middle;\n",
       "    }\n",
       "\n",
       "    .dataframe tbody tr th {\n",
       "        vertical-align: top;\n",
       "    }\n",
       "\n",
       "    .dataframe thead th {\n",
       "        text-align: right;\n",
       "    }\n",
       "</style>\n",
       "<table border=\"1\" class=\"dataframe\">\n",
       "  <thead>\n",
       "    <tr style=\"text-align: right;\">\n",
       "      <th></th>\n",
       "      <th>GRE Score</th>\n",
       "      <th>TOEFL Score</th>\n",
       "      <th>University Rating</th>\n",
       "      <th>SOP</th>\n",
       "      <th>LOR</th>\n",
       "      <th>CGPA</th>\n",
       "      <th>Research</th>\n",
       "      <th>Chance of Admit</th>\n",
       "    </tr>\n",
       "  </thead>\n",
       "  <tbody>\n",
       "    <tr>\n",
       "      <th>0</th>\n",
       "      <td>337</td>\n",
       "      <td>118</td>\n",
       "      <td>4</td>\n",
       "      <td>4.5</td>\n",
       "      <td>4.5</td>\n",
       "      <td>9.65</td>\n",
       "      <td>1</td>\n",
       "      <td>0.92</td>\n",
       "    </tr>\n",
       "    <tr>\n",
       "      <th>1</th>\n",
       "      <td>324</td>\n",
       "      <td>107</td>\n",
       "      <td>4</td>\n",
       "      <td>4.0</td>\n",
       "      <td>4.5</td>\n",
       "      <td>8.87</td>\n",
       "      <td>1</td>\n",
       "      <td>0.76</td>\n",
       "    </tr>\n",
       "    <tr>\n",
       "      <th>2</th>\n",
       "      <td>316</td>\n",
       "      <td>104</td>\n",
       "      <td>3</td>\n",
       "      <td>3.0</td>\n",
       "      <td>3.5</td>\n",
       "      <td>8.00</td>\n",
       "      <td>1</td>\n",
       "      <td>0.72</td>\n",
       "    </tr>\n",
       "    <tr>\n",
       "      <th>3</th>\n",
       "      <td>322</td>\n",
       "      <td>110</td>\n",
       "      <td>3</td>\n",
       "      <td>3.5</td>\n",
       "      <td>2.5</td>\n",
       "      <td>8.67</td>\n",
       "      <td>1</td>\n",
       "      <td>0.80</td>\n",
       "    </tr>\n",
       "    <tr>\n",
       "      <th>4</th>\n",
       "      <td>314</td>\n",
       "      <td>103</td>\n",
       "      <td>2</td>\n",
       "      <td>2.0</td>\n",
       "      <td>3.0</td>\n",
       "      <td>8.21</td>\n",
       "      <td>0</td>\n",
       "      <td>0.65</td>\n",
       "    </tr>\n",
       "  </tbody>\n",
       "</table>\n",
       "</div>"
      ],
      "text/plain": [
       "   GRE Score  TOEFL Score  University Rating  SOP  LOR   CGPA  Research  \\\n",
       "0        337          118                  4  4.5   4.5  9.65         1   \n",
       "1        324          107                  4  4.0   4.5  8.87         1   \n",
       "2        316          104                  3  3.0   3.5  8.00         1   \n",
       "3        322          110                  3  3.5   2.5  8.67         1   \n",
       "4        314          103                  2  2.0   3.0  8.21         0   \n",
       "\n",
       "   Chance of Admit   \n",
       "0              0.92  \n",
       "1              0.76  \n",
       "2              0.72  \n",
       "3              0.80  \n",
       "4              0.65  "
      ]
     },
     "execution_count": 8,
     "metadata": {},
     "output_type": "execute_result"
    }
   ],
   "source": [
    "df.head()"
   ]
  },
  {
   "cell_type": "code",
   "execution_count": 7,
   "id": "c42c41fd",
   "metadata": {},
   "outputs": [],
   "source": [
    "df.drop('Serial No.',inplace=True,axis=1)"
   ]
  },
  {
   "cell_type": "code",
   "execution_count": 10,
   "id": "dbea5e73",
   "metadata": {},
   "outputs": [],
   "source": [
    "X=df.iloc[:,0:-1]\n",
    "y=df.iloc[:,-1]"
   ]
  },
  {
   "cell_type": "code",
   "execution_count": 15,
   "id": "4d7399b0",
   "metadata": {},
   "outputs": [],
   "source": [
    "from sklearn.model_selection import train_test_split"
   ]
  },
  {
   "cell_type": "code",
   "execution_count": 19,
   "id": "1d880969",
   "metadata": {},
   "outputs": [],
   "source": [
    "from sklearn.preprocessing import MinMaxScaler"
   ]
  },
  {
   "cell_type": "code",
   "execution_count": 21,
   "id": "e47de5e5",
   "metadata": {},
   "outputs": [],
   "source": [
    "scaler=MinMaxScaler()\n",
    "X_train_scaled=scaler.fit_transform(X_train)\n",
    "X_test_scaled=scaler.transform(X_test)"
   ]
  },
  {
   "cell_type": "code",
   "execution_count": 16,
   "id": "bc3da29f",
   "metadata": {},
   "outputs": [],
   "source": [
    "X_train, X_test, y_train, y_test = train_test_split(X, y, test_size=0.2, random_state=1)"
   ]
  },
  {
   "cell_type": "code",
   "execution_count": 22,
   "id": "713607df",
   "metadata": {},
   "outputs": [],
   "source": [
    "import tensorflow\n",
    "from tensorflow import keras\n",
    "from tensorflow.keras.layers import Dense\n",
    "from tensorflow.keras import Sequential"
   ]
  },
  {
   "cell_type": "code",
   "execution_count": 40,
   "id": "cc7f533b",
   "metadata": {},
   "outputs": [],
   "source": [
    "model=Sequential()"
   ]
  },
  {
   "cell_type": "code",
   "execution_count": 41,
   "id": "8cdbf301",
   "metadata": {},
   "outputs": [],
   "source": [
    "model.add(Dense(7,activation=\"relu\",input_dim=7))"
   ]
  },
  {
   "cell_type": "code",
   "execution_count": 42,
   "id": "67c3c267",
   "metadata": {},
   "outputs": [],
   "source": [
    "model.add(Dense(7,activation='relu'))"
   ]
  },
  {
   "cell_type": "code",
   "execution_count": 43,
   "id": "714a6ab8",
   "metadata": {},
   "outputs": [],
   "source": [
    "model.add(Dense(1,activation=\"linear\"))"
   ]
  },
  {
   "cell_type": "code",
   "execution_count": 44,
   "id": "9b9a70cc",
   "metadata": {},
   "outputs": [
    {
     "name": "stdout",
     "output_type": "stream",
     "text": [
      "Model: \"sequential_1\"\n",
      "_________________________________________________________________\n",
      " Layer (type)                Output Shape              Param #   \n",
      "=================================================================\n",
      " dense_3 (Dense)             (None, 7)                 56        \n",
      "                                                                 \n",
      " dense_4 (Dense)             (None, 7)                 56        \n",
      "                                                                 \n",
      " dense_5 (Dense)             (None, 1)                 8         \n",
      "                                                                 \n",
      "=================================================================\n",
      "Total params: 120 (480.00 Byte)\n",
      "Trainable params: 120 (480.00 Byte)\n",
      "Non-trainable params: 0 (0.00 Byte)\n",
      "_________________________________________________________________\n"
     ]
    }
   ],
   "source": [
    "model.summary()"
   ]
  },
  {
   "cell_type": "code",
   "execution_count": 45,
   "id": "a174ef3c",
   "metadata": {},
   "outputs": [],
   "source": [
    "model.compile(loss=\"mean_squared_error\",optimizer=\"Adam\")"
   ]
  },
  {
   "cell_type": "code",
   "execution_count": 46,
   "id": "f9ab61ca",
   "metadata": {},
   "outputs": [
    {
     "name": "stdout",
     "output_type": "stream",
     "text": [
      "Epoch 1/100\n",
      "10/10 [==============================] - 2s 38ms/step - loss: 0.1658 - val_loss: 0.1327\n",
      "Epoch 2/100\n",
      "10/10 [==============================] - 0s 9ms/step - loss: 0.0996 - val_loss: 0.0720\n",
      "Epoch 3/100\n",
      "10/10 [==============================] - 0s 9ms/step - loss: 0.0504 - val_loss: 0.0322\n",
      "Epoch 4/100\n",
      "10/10 [==============================] - 0s 9ms/step - loss: 0.0213 - val_loss: 0.0149\n",
      "Epoch 5/100\n",
      "10/10 [==============================] - 0s 9ms/step - loss: 0.0112 - val_loss: 0.0127\n",
      "Epoch 6/100\n",
      "10/10 [==============================] - 0s 9ms/step - loss: 0.0104 - val_loss: 0.0132\n",
      "Epoch 7/100\n",
      "10/10 [==============================] - 0s 9ms/step - loss: 0.0101 - val_loss: 0.0124\n",
      "Epoch 8/100\n",
      "10/10 [==============================] - 0s 9ms/step - loss: 0.0095 - val_loss: 0.0116\n",
      "Epoch 9/100\n",
      "10/10 [==============================] - 0s 9ms/step - loss: 0.0090 - val_loss: 0.0113\n",
      "Epoch 10/100\n",
      "10/10 [==============================] - 0s 10ms/step - loss: 0.0088 - val_loss: 0.0111\n",
      "Epoch 11/100\n",
      "10/10 [==============================] - 0s 10ms/step - loss: 0.0087 - val_loss: 0.0109\n",
      "Epoch 12/100\n",
      "10/10 [==============================] - 0s 10ms/step - loss: 0.0085 - val_loss: 0.0107\n",
      "Epoch 13/100\n",
      "10/10 [==============================] - 0s 10ms/step - loss: 0.0084 - val_loss: 0.0105\n",
      "Epoch 14/100\n",
      "10/10 [==============================] - 0s 8ms/step - loss: 0.0082 - val_loss: 0.0103\n",
      "Epoch 15/100\n",
      "10/10 [==============================] - 0s 9ms/step - loss: 0.0080 - val_loss: 0.0101\n",
      "Epoch 16/100\n",
      "10/10 [==============================] - 0s 9ms/step - loss: 0.0079 - val_loss: 0.0099\n",
      "Epoch 17/100\n",
      "10/10 [==============================] - 0s 9ms/step - loss: 0.0078 - val_loss: 0.0096\n",
      "Epoch 18/100\n",
      "10/10 [==============================] - 0s 8ms/step - loss: 0.0076 - val_loss: 0.0095\n",
      "Epoch 19/100\n",
      "10/10 [==============================] - 0s 10ms/step - loss: 0.0074 - val_loss: 0.0093\n",
      "Epoch 20/100\n",
      "10/10 [==============================] - 0s 9ms/step - loss: 0.0073 - val_loss: 0.0090\n",
      "Epoch 21/100\n",
      "10/10 [==============================] - 0s 9ms/step - loss: 0.0071 - val_loss: 0.0088\n",
      "Epoch 22/100\n",
      "10/10 [==============================] - 0s 9ms/step - loss: 0.0070 - val_loss: 0.0086\n",
      "Epoch 23/100\n",
      "10/10 [==============================] - 0s 11ms/step - loss: 0.0069 - val_loss: 0.0084\n",
      "Epoch 24/100\n",
      "10/10 [==============================] - 0s 10ms/step - loss: 0.0068 - val_loss: 0.0082\n",
      "Epoch 25/100\n",
      "10/10 [==============================] - 0s 10ms/step - loss: 0.0066 - val_loss: 0.0080\n",
      "Epoch 26/100\n",
      "10/10 [==============================] - 0s 9ms/step - loss: 0.0065 - val_loss: 0.0078\n",
      "Epoch 27/100\n",
      "10/10 [==============================] - 0s 9ms/step - loss: 0.0063 - val_loss: 0.0076\n",
      "Epoch 28/100\n",
      "10/10 [==============================] - 0s 9ms/step - loss: 0.0062 - val_loss: 0.0075\n",
      "Epoch 29/100\n",
      "10/10 [==============================] - 0s 8ms/step - loss: 0.0061 - val_loss: 0.0072\n",
      "Epoch 30/100\n",
      "10/10 [==============================] - 0s 11ms/step - loss: 0.0060 - val_loss: 0.0071\n",
      "Epoch 31/100\n",
      "10/10 [==============================] - 0s 10ms/step - loss: 0.0059 - val_loss: 0.0069\n",
      "Epoch 32/100\n",
      "10/10 [==============================] - 0s 10ms/step - loss: 0.0057 - val_loss: 0.0068\n",
      "Epoch 33/100\n",
      "10/10 [==============================] - 0s 10ms/step - loss: 0.0056 - val_loss: 0.0066\n",
      "Epoch 34/100\n",
      "10/10 [==============================] - 0s 10ms/step - loss: 0.0055 - val_loss: 0.0065\n",
      "Epoch 35/100\n",
      "10/10 [==============================] - 0s 9ms/step - loss: 0.0054 - val_loss: 0.0064\n",
      "Epoch 36/100\n",
      "10/10 [==============================] - 0s 9ms/step - loss: 0.0054 - val_loss: 0.0062\n",
      "Epoch 37/100\n",
      "10/10 [==============================] - 0s 8ms/step - loss: 0.0053 - val_loss: 0.0061\n",
      "Epoch 38/100\n",
      "10/10 [==============================] - 0s 9ms/step - loss: 0.0052 - val_loss: 0.0060\n",
      "Epoch 39/100\n",
      "10/10 [==============================] - 0s 8ms/step - loss: 0.0051 - val_loss: 0.0059\n",
      "Epoch 40/100\n",
      "10/10 [==============================] - 0s 9ms/step - loss: 0.0051 - val_loss: 0.0059\n",
      "Epoch 41/100\n",
      "10/10 [==============================] - 0s 9ms/step - loss: 0.0050 - val_loss: 0.0058\n",
      "Epoch 42/100\n",
      "10/10 [==============================] - 0s 9ms/step - loss: 0.0049 - val_loss: 0.0058\n",
      "Epoch 43/100\n",
      "10/10 [==============================] - 0s 9ms/step - loss: 0.0049 - val_loss: 0.0057\n",
      "Epoch 44/100\n",
      "10/10 [==============================] - 0s 11ms/step - loss: 0.0048 - val_loss: 0.0056\n",
      "Epoch 45/100\n",
      "10/10 [==============================] - 0s 10ms/step - loss: 0.0048 - val_loss: 0.0056\n",
      "Epoch 46/100\n",
      "10/10 [==============================] - 0s 11ms/step - loss: 0.0048 - val_loss: 0.0055\n",
      "Epoch 47/100\n",
      "10/10 [==============================] - 0s 9ms/step - loss: 0.0048 - val_loss: 0.0055\n",
      "Epoch 48/100\n",
      "10/10 [==============================] - 0s 8ms/step - loss: 0.0047 - val_loss: 0.0054\n",
      "Epoch 49/100\n",
      "10/10 [==============================] - 0s 9ms/step - loss: 0.0047 - val_loss: 0.0054\n",
      "Epoch 50/100\n",
      "10/10 [==============================] - 0s 10ms/step - loss: 0.0046 - val_loss: 0.0053\n",
      "Epoch 51/100\n",
      "10/10 [==============================] - 0s 11ms/step - loss: 0.0046 - val_loss: 0.0053\n",
      "Epoch 52/100\n",
      "10/10 [==============================] - 0s 10ms/step - loss: 0.0046 - val_loss: 0.0053\n",
      "Epoch 53/100\n",
      "10/10 [==============================] - 0s 9ms/step - loss: 0.0045 - val_loss: 0.0052\n",
      "Epoch 54/100\n",
      "10/10 [==============================] - 0s 9ms/step - loss: 0.0045 - val_loss: 0.0052\n",
      "Epoch 55/100\n",
      "10/10 [==============================] - 0s 9ms/step - loss: 0.0045 - val_loss: 0.0052\n",
      "Epoch 56/100\n",
      "10/10 [==============================] - 0s 9ms/step - loss: 0.0045 - val_loss: 0.0051\n",
      "Epoch 57/100\n",
      "10/10 [==============================] - 0s 9ms/step - loss: 0.0045 - val_loss: 0.0051\n",
      "Epoch 58/100\n",
      "10/10 [==============================] - 0s 9ms/step - loss: 0.0044 - val_loss: 0.0051\n",
      "Epoch 59/100\n",
      "10/10 [==============================] - 0s 10ms/step - loss: 0.0044 - val_loss: 0.0050\n",
      "Epoch 60/100\n",
      "10/10 [==============================] - 0s 9ms/step - loss: 0.0044 - val_loss: 0.0050\n",
      "Epoch 61/100\n",
      "10/10 [==============================] - 0s 9ms/step - loss: 0.0044 - val_loss: 0.0050\n",
      "Epoch 62/100\n",
      "10/10 [==============================] - 0s 9ms/step - loss: 0.0043 - val_loss: 0.0049\n",
      "Epoch 63/100\n",
      "10/10 [==============================] - 0s 9ms/step - loss: 0.0043 - val_loss: 0.0049\n",
      "Epoch 64/100\n",
      "10/10 [==============================] - 0s 9ms/step - loss: 0.0043 - val_loss: 0.0049\n",
      "Epoch 65/100\n",
      "10/10 [==============================] - 0s 10ms/step - loss: 0.0043 - val_loss: 0.0049\n",
      "Epoch 66/100\n",
      "10/10 [==============================] - 0s 10ms/step - loss: 0.0043 - val_loss: 0.0048\n",
      "Epoch 67/100\n",
      "10/10 [==============================] - 0s 9ms/step - loss: 0.0043 - val_loss: 0.0049\n",
      "Epoch 68/100\n",
      "10/10 [==============================] - 0s 9ms/step - loss: 0.0043 - val_loss: 0.0048\n",
      "Epoch 69/100\n",
      "10/10 [==============================] - 0s 10ms/step - loss: 0.0042 - val_loss: 0.0048\n",
      "Epoch 70/100\n",
      "10/10 [==============================] - 0s 9ms/step - loss: 0.0043 - val_loss: 0.0048\n",
      "Epoch 71/100\n",
      "10/10 [==============================] - 0s 10ms/step - loss: 0.0042 - val_loss: 0.0048\n",
      "Epoch 72/100\n",
      "10/10 [==============================] - 0s 10ms/step - loss: 0.0042 - val_loss: 0.0048\n",
      "Epoch 73/100\n",
      "10/10 [==============================] - 0s 11ms/step - loss: 0.0042 - val_loss: 0.0048\n",
      "Epoch 74/100\n",
      "10/10 [==============================] - 0s 10ms/step - loss: 0.0042 - val_loss: 0.0047\n",
      "Epoch 75/100\n",
      "10/10 [==============================] - 0s 9ms/step - loss: 0.0041 - val_loss: 0.0048\n",
      "Epoch 76/100\n",
      "10/10 [==============================] - 0s 9ms/step - loss: 0.0041 - val_loss: 0.0047\n",
      "Epoch 77/100\n",
      "10/10 [==============================] - 0s 9ms/step - loss: 0.0042 - val_loss: 0.0047\n",
      "Epoch 78/100\n",
      "10/10 [==============================] - 0s 10ms/step - loss: 0.0041 - val_loss: 0.0047\n",
      "Epoch 79/100\n",
      "10/10 [==============================] - 0s 8ms/step - loss: 0.0041 - val_loss: 0.0047\n",
      "Epoch 80/100\n",
      "10/10 [==============================] - 0s 9ms/step - loss: 0.0041 - val_loss: 0.0047\n",
      "Epoch 81/100\n",
      "10/10 [==============================] - 0s 9ms/step - loss: 0.0041 - val_loss: 0.0047\n",
      "Epoch 82/100\n"
     ]
    },
    {
     "name": "stdout",
     "output_type": "stream",
     "text": [
      "10/10 [==============================] - 0s 9ms/step - loss: 0.0041 - val_loss: 0.0047\n",
      "Epoch 83/100\n",
      "10/10 [==============================] - 0s 9ms/step - loss: 0.0041 - val_loss: 0.0047\n",
      "Epoch 84/100\n",
      "10/10 [==============================] - 0s 8ms/step - loss: 0.0040 - val_loss: 0.0047\n",
      "Epoch 85/100\n",
      "10/10 [==============================] - 0s 9ms/step - loss: 0.0040 - val_loss: 0.0046\n",
      "Epoch 86/100\n",
      "10/10 [==============================] - 0s 9ms/step - loss: 0.0040 - val_loss: 0.0046\n",
      "Epoch 87/100\n",
      "10/10 [==============================] - 0s 9ms/step - loss: 0.0040 - val_loss: 0.0046\n",
      "Epoch 88/100\n",
      "10/10 [==============================] - 0s 9ms/step - loss: 0.0040 - val_loss: 0.0046\n",
      "Epoch 89/100\n",
      "10/10 [==============================] - 0s 9ms/step - loss: 0.0040 - val_loss: 0.0047\n",
      "Epoch 90/100\n",
      "10/10 [==============================] - 0s 9ms/step - loss: 0.0040 - val_loss: 0.0046\n",
      "Epoch 91/100\n",
      "10/10 [==============================] - 0s 9ms/step - loss: 0.0040 - val_loss: 0.0046\n",
      "Epoch 92/100\n",
      "10/10 [==============================] - 0s 9ms/step - loss: 0.0040 - val_loss: 0.0046\n",
      "Epoch 93/100\n",
      "10/10 [==============================] - 0s 10ms/step - loss: 0.0040 - val_loss: 0.0046\n",
      "Epoch 94/100\n",
      "10/10 [==============================] - 0s 9ms/step - loss: 0.0040 - val_loss: 0.0046\n",
      "Epoch 95/100\n",
      "10/10 [==============================] - 0s 9ms/step - loss: 0.0040 - val_loss: 0.0045\n",
      "Epoch 96/100\n",
      "10/10 [==============================] - 0s 10ms/step - loss: 0.0039 - val_loss: 0.0046\n",
      "Epoch 97/100\n",
      "10/10 [==============================] - 0s 9ms/step - loss: 0.0039 - val_loss: 0.0045\n",
      "Epoch 98/100\n",
      "10/10 [==============================] - 0s 10ms/step - loss: 0.0040 - val_loss: 0.0045\n",
      "Epoch 99/100\n",
      "10/10 [==============================] - 0s 11ms/step - loss: 0.0040 - val_loss: 0.0045\n",
      "Epoch 100/100\n",
      "10/10 [==============================] - 0s 9ms/step - loss: 0.0039 - val_loss: 0.0046\n"
     ]
    }
   ],
   "source": [
    "history=model.fit(X_train_scaled,y_train,epochs=100,validation_split=0.2)"
   ]
  },
  {
   "cell_type": "code",
   "execution_count": 47,
   "id": "cd15f0a2",
   "metadata": {},
   "outputs": [
    {
     "name": "stdout",
     "output_type": "stream",
     "text": [
      "4/4 [==============================] - 0s 7ms/step\n"
     ]
    }
   ],
   "source": [
    "y_pred=model.predict(X_test_scaled)"
   ]
  },
  {
   "cell_type": "code",
   "execution_count": 48,
   "id": "24f9fe4b",
   "metadata": {},
   "outputs": [],
   "source": [
    "from sklearn.metrics import r2_score"
   ]
  },
  {
   "cell_type": "code",
   "execution_count": 49,
   "id": "a289972b",
   "metadata": {},
   "outputs": [
    {
     "data": {
      "text/plain": [
       "0.8124910603824188"
      ]
     },
     "execution_count": 49,
     "metadata": {},
     "output_type": "execute_result"
    }
   ],
   "source": [
    "r2_score(y_test,y_pred)"
   ]
  },
  {
   "cell_type": "code",
   "execution_count": 50,
   "id": "ad32bb08",
   "metadata": {},
   "outputs": [],
   "source": [
    "import matplotlib.pyplot as plt"
   ]
  },
  {
   "cell_type": "code",
   "execution_count": 51,
   "id": "ff30c694",
   "metadata": {},
   "outputs": [
    {
     "data": {
      "text/plain": [
       "[<matplotlib.lines.Line2D at 0x14dbf1ed490>]"
      ]
     },
     "execution_count": 51,
     "metadata": {},
     "output_type": "execute_result"
    },
    {
     "data": {
      "image/png": "[encoded data removed]",
      "text/plain": [
       "<Figure size 640x480 with 1 Axes>"
      ]
     },
     "metadata": {},
     "output_type": "display_data"
    }
   ],
   "source": [
    "plt.plot(history.history[\"loss\"])\n",
    "plt.plot(history.history[\"val_loss\"])"
   ]
  },
  {
   "cell_type": "code",
   "execution_count": null,
   "id": "907df7a5",
   "metadata": {},
   "outputs": [],
   "source": []
  }
 ],
 "metadata": {
  "kernelspec": {
   "display_name": "Python 3 (ipykernel)",
   "language": "python",
   "name": "python3"
  },
  "language_info": {
   "codemirror_mode": {
    "name": "ipython",
    "version": 3
   },
   "file_extension": ".py",
   "mimetype": "text/x-python",
   "name": "python",
   "nbconvert_exporter": "python",
   "pygments_lexer": "ipython3",
   "version": "3.11.4"
  }
 },
 "nbformat": 4,
 "nbformat_minor": 5
}
